{
  "nbformat": 4,
  "nbformat_minor": 0,
  "metadata": {
    "colab": {
      "provenance": [],
      "authorship_tag": "ABX9TyNUIYu9//OXI3liFx6nkBX0",
      "include_colab_link": true
    },
    "kernelspec": {
      "name": "python3",
      "display_name": "Python 3"
    },
    "language_info": {
      "name": "python"
    }
  },
  "cells": [
    {
      "cell_type": "markdown",
      "metadata": {
        "id": "view-in-github",
        "colab_type": "text"
      },
      "source": [
        "<a href=\"https://colab.research.google.com/github/pythonjjj/AtividadesDIO/blob/main/CalculoMetricas.ipynb\" target=\"_parent\"><img src=\"https://colab.research.google.com/assets/colab-badge.svg\" alt=\"Open In Colab\"/></a>"
      ]
    },
    {
      "cell_type": "code",
      "execution_count": 1,
      "metadata": {
        "colab": {
          "base_uri": "https://localhost:8080/"
        },
        "id": "oFlft_xQx2tT",
        "outputId": "e25764be-4a5a-4774-f38e-35b7b81df651"
      },
      "outputs": [
        {
          "output_type": "stream",
          "name": "stdout",
          "text": [
            "Acurácia: 0.70\n",
            "Sensibilidade (Recall): 0.60\n",
            "Especificidade: 0.80\n",
            "Precisão: 0.75\n",
            "F1-Score: 0.67\n"
          ]
        }
      ],
      "source": [
        "def calcular_metricas(vp, vn, fp, fn):\n",
        "\n",
        "    total = vp + vn + fp + fn\n",
        "\n",
        "    # Cálculo da acurácia\n",
        "    acuracia = (vp + vn) / total if total > 0 else 0\n",
        "\n",
        "    # Cálculo da sensibilidade (recall)\n",
        "    sensibilidade = vp / (vp + fn) if (vp + fn) > 0 else 0\n",
        "\n",
        "    # Cálculo da especificidade\n",
        "    especificidade = vn / (vn + fp) if (vn + fp) > 0 else 0\n",
        "\n",
        "    # Cálculo da precisão\n",
        "    precisao = vp / (vp + fp) if (vp + fp) > 0 else 0\n",
        "\n",
        "    # Cálculo do F1-score\n",
        "    f1_score = 2 * (precisao * sensibilidade) / (precisao + sensibilidade) if (precisao + sensibilidade) > 0 else 0\n",
        "\n",
        "\n",
        "    return {\n",
        "        \"acuracia\": acuracia,\n",
        "        \"sensibilidade\": sensibilidade,\n",
        "        \"especificidade\": especificidade,\n",
        "        \"precisao\": precisao,\n",
        "        \"f1_score\": f1_score,\n",
        "    }\n",
        "\n",
        "# Exemplo de uso: Definindo uma matriz de confusão arbitrária\n",
        "vp = 150\n",
        "vn = 200\n",
        "fp = 50\n",
        "fn = 100\n",
        "\n",
        "metricas = calcular_metricas(vp, vn, fp, fn)\n",
        "\n",
        "# Exibindo as métricas\n",
        "print(f\"Acurácia: {metricas['acuracia']:.2f}\")\n",
        "print(f\"Sensibilidade (Recall): {metricas['sensibilidade']:.2f}\")\n",
        "print(f\"Especificidade: {metricas['especificidade']:.2f}\")\n",
        "print(f\"Precisão: {metricas['precisao']:.2f}\")\n",
        "print(f\"F1-Score: {metricas['f1_score']:.2f}\")"
      ]
    }
  ]
}